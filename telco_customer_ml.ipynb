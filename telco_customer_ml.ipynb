{
 "cells": [
  {
   "cell_type": "markdown",
   "id": "026a4bab",
   "metadata": {},
   "source": [
    "### Importation"
   ]
  },
  {
   "cell_type": "code",
   "execution_count": null,
   "id": "36fce626",
   "metadata": {},
   "outputs": [],
   "source": [
    "import pandas as pd\n",
    "from sklearn.model_selection import train_test_split\n",
    "import seaborn as sns\n",
    "import matplotlib.pyplot as plt"
   ]
  },
  {
   "cell_type": "markdown",
   "id": "5a4871f9",
   "metadata": {},
   "source": [
    "### Load Dataset"
   ]
  },
  {
   "cell_type": "code",
   "execution_count": null,
   "id": "52988d48",
   "metadata": {},
   "outputs": [],
   "source": [
    "df_telco_customer = pd.read_csv('./telco_customer_dataset.csv')\n",
    "display(df_telco_customer.head())"
   ]
  },
  {
   "cell_type": "markdown",
   "id": "2643cdf0",
   "metadata": {},
   "source": [
    "### Removes the results column"
   ]
  },
  {
   "cell_type": "code",
   "execution_count": null,
   "id": "63785d99",
   "metadata": {},
   "outputs": [],
   "source": [
    "from sklearn.preprocessing import MinMaxScaler\n",
    "\n",
    "x = df_telco_customer.drop(['Churn', 'customerID'], axis=1)\n",
    "y = df_telco_customer['Churn']"
   ]
  },
  {
   "cell_type": "markdown",
   "id": "385190c0",
   "metadata": {},
   "source": [
    "### Convert categorical columns to numeric values"
   ]
  },
  {
   "cell_type": "code",
   "execution_count": null,
   "id": "3f63a2eb",
   "metadata": {},
   "outputs": [],
   "source": [
    "from sklearn.preprocessing import OrdinalEncoder\n",
    "from sklearn.preprocessing import LabelEncoder\n",
    "from sklearn.compose import ColumnTransformer, make_column_selector\n",
    "\n",
    "encoder = ColumnTransformer(\n",
    "    transformers=[\n",
    "        (\"categorics\", OrdinalEncoder(handle_unknown=\"use_encoded_value\", unknown_value=-1),\n",
    "         make_column_selector(dtype_include=\"object\"))\n",
    "    ],\n",
    "    remainder=\"passthrough\"\n",
    ")\n",
    "\n",
    "label_encoder = LabelEncoder()\n",
    "\n",
    "x_pre = encoder.fit_transform(x)\n",
    "y_pre = label_encoder.fit_transform(y)\n",
    "\n",
    "display(x_pre)\n",
    "display(y_pre)"
   ]
  },
  {
   "cell_type": "markdown",
   "id": "7e90a2b1",
   "metadata": {},
   "source": [
    "### Slipts the data into train and test "
   ]
  },
  {
   "cell_type": "code",
   "execution_count": null,
   "id": "630f6f77",
   "metadata": {},
   "outputs": [],
   "source": [
    "X_train, X_test, y_train, y_test = train_test_split(\n",
    "x_pre, y_pre, test_size=0.3, random_state=42\n",
    ")"
   ]
  },
  {
   "cell_type": "markdown",
   "id": "79c0738e",
   "metadata": {},
   "source": [
    "### Normalize data"
   ]
  },
  {
   "cell_type": "code",
   "execution_count": null,
   "id": "fcb0a02a",
   "metadata": {},
   "outputs": [],
   "source": [
    "scaler = MinMaxScaler()\n",
    "X_train_norm = scaler.fit_transform(X_train)\n",
    "X_test_norm = scaler.transform(X_test)"
   ]
  },
  {
   "cell_type": "markdown",
   "id": "4a26c037",
   "metadata": {},
   "source": [
    "### Applying GaussianNB Model"
   ]
  },
  {
   "cell_type": "code",
   "execution_count": null,
   "id": "a3cf8eed",
   "metadata": {},
   "outputs": [],
   "source": [
    "from sklearn.naive_bayes import GaussianNB\n",
    "from sklearn.metrics import accuracy_score, classification_report, confusion_matrix\n",
    "\n",
    "gnb = GaussianNB()\n",
    "\n",
    "gnb.fit(X_train_norm, y_train)\n",
    "\n",
    "y_pred_gnb = gnb.predict(X_test_norm)\n",
    "\n",
    "print(\"Accuracy:\", accuracy_score(y_test, y_pred_gnb))\n",
    "print(\"Confusion Matrix:\\n\", confusion_matrix(y_test, y_pred_gnb))\n",
    "print(\"Classification Report:\\n\", classification_report(y_test, y_pred_gnb))\n"
   ]
  },
  {
   "cell_type": "markdown",
   "id": "9bdeb6d0",
   "metadata": {},
   "source": [
    "### Result Plot GaussianNB"
   ]
  },
  {
   "cell_type": "code",
   "execution_count": null,
   "id": "6dcad9c1",
   "metadata": {},
   "outputs": [],
   "source": [
    "cm_gnb = confusion_matrix(y_test, y_pred_gnb)\n",
    "sns.heatmap(cm_gnb, annot=True, fmt='d', cmap='Blues')\n",
    "plt.xlabel('Predicted')\n",
    "plt.ylabel('Actual')\n",
    "plt.title('Confusion Matrix')\n",
    "plt.show()"
   ]
  },
  {
   "cell_type": "markdown",
   "id": "87991b3f",
   "metadata": {},
   "source": [
    "### Applying KNeighborsClassifier Model"
   ]
  },
  {
   "cell_type": "code",
   "execution_count": null,
   "id": "c81c8ac1",
   "metadata": {},
   "outputs": [],
   "source": [
    "from sklearn.neighbors import KNeighborsClassifier\n",
    "from sklearn.metrics import accuracy_score, classification_report, confusion_matrix\n",
    "\n",
    "knn = KNeighborsClassifier(n_neighbors=5)\n",
    "\n",
    "knn.fit(X_train, y_train)\n",
    "\n",
    "y_pred_knn = knn.predict(X_test)\n",
    "\n",
    "print(\"Accuracy:\", accuracy_score(y_test, y_pred_knn))\n",
    "print(\"Confusion Matrix:\\n\", confusion_matrix(y_test, y_pred_knn))\n",
    "print(\"Classification Report:\\n\", classification_report(y_test, y_pred_knn))\n"
   ]
  },
  {
   "cell_type": "markdown",
   "id": "4a95a8fe",
   "metadata": {},
   "source": [
    "### Result Plot KNeighborsClassifier"
   ]
  },
  {
   "cell_type": "code",
   "execution_count": null,
   "id": "91485dea",
   "metadata": {},
   "outputs": [],
   "source": [
    "cm_knn = confusion_matrix(y_test, y_pred_knn)\n",
    "sns.heatmap(cm_knn, annot=True, fmt='d', cmap='Blues')\n",
    "plt.xlabel('Predicted')\n",
    "plt.ylabel('Actual')\n",
    "plt.title('Confusion Matrix')\n",
    "plt.show()"
   ]
  },
  {
   "cell_type": "markdown",
   "id": "6f7f589a",
   "metadata": {},
   "source": [
    "### Applying MultinomialNB Model"
   ]
  },
  {
   "cell_type": "code",
   "execution_count": null,
   "id": "fda1f902",
   "metadata": {},
   "outputs": [],
   "source": [
    "from sklearn.naive_bayes import MultinomialNB\n",
    "from sklearn.metrics import accuracy_score, classification_report, confusion_matrix\n",
    "\n",
    "mnb = MultinomialNB()\n",
    "\n",
    "mnb.fit(X_train_norm, y_train)\n",
    "\n",
    "y_pred_mnb = mnb.predict(X_test_norm)\n",
    "\n",
    "print(\"Accuracy:\", accuracy_score(y_test, y_pred_mnb))\n",
    "print(\"Confusion Matrix:\\n\", confusion_matrix(y_test, y_pred_mnb))\n",
    "print(\"Classification Report:\\n\", classification_report(y_test, y_pred_mnb))\n"
   ]
  },
  {
   "cell_type": "markdown",
   "id": "3ab27268",
   "metadata": {},
   "source": [
    "### Result Plot MultinomialNB"
   ]
  },
  {
   "cell_type": "code",
   "execution_count": null,
   "id": "15ccd4e6",
   "metadata": {},
   "outputs": [],
   "source": [
    "cm_mnb = confusion_matrix(y_test, y_pred_mnb)\n",
    "sns.heatmap(cm_mnb, annot=True, fmt='d', cmap='Blues')\n",
    "plt.xlabel('Predicted')\n",
    "plt.ylabel('Actual')\n",
    "plt.title('Confusion Matrix')\n",
    "plt.show()"
   ]
  },
  {
   "cell_type": "markdown",
   "id": "c7096c89",
   "metadata": {},
   "source": [
    "### Applying DecisionTreeClassifier Model"
   ]
  },
  {
   "cell_type": "code",
   "execution_count": null,
   "id": "5407a672",
   "metadata": {},
   "outputs": [],
   "source": [
    "from sklearn.tree import DecisionTreeClassifier\n",
    "from sklearn.metrics import accuracy_score, classification_report, confusion_matrix\n",
    "\n",
    "clf = DecisionTreeClassifier()\n",
    "\n",
    "clf.fit(X_train_norm, y_train)\n",
    "\n",
    "y_pred_clf = clf.predict(X_test_norm)\n",
    "\n",
    "print(\"Accuracy:\", accuracy_score(y_test, y_pred_clf))\n",
    "print(\"Confusion Matrix:\\n\", confusion_matrix(y_test, y_pred_clf))\n",
    "print(\"Classification Report:\\n\", classification_report(y_test, y_pred_clf))\n"
   ]
  },
  {
   "cell_type": "markdown",
   "id": "c16cbb33",
   "metadata": {},
   "source": [
    "### Result Plot DecisionTreeClassifier"
   ]
  },
  {
   "cell_type": "code",
   "execution_count": null,
   "id": "7d392354",
   "metadata": {},
   "outputs": [],
   "source": [
    "cm_clf = confusion_matrix(y_test, y_pred_clf)\n",
    "sns.heatmap(cm_clf, annot=True, fmt='d', cmap='Blues')\n",
    "plt.xlabel('Predicted')\n",
    "plt.ylabel('Actual')\n",
    "plt.title('Confusion Matrix')\n",
    "plt.show()"
   ]
  }
 ],
 "metadata": {
  "kernelspec": {
   "display_name": "Python 3",
   "language": "python",
   "name": "python3"
  },
  "language_info": {
   "codemirror_mode": {
    "name": "ipython",
    "version": 3
   },
   "file_extension": ".py",
   "mimetype": "text/x-python",
   "name": "python",
   "nbconvert_exporter": "python",
   "pygments_lexer": "ipython3",
   "version": "3.12.2"
  }
 },
 "nbformat": 4,
 "nbformat_minor": 5
}
